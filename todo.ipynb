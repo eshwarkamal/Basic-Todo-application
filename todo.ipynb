{
 "cells": [
  {
   "cell_type": "code",
   "execution_count": 5,
   "metadata": {},
   "outputs": [],
   "source": [
    "import sys\n",
    "import os\n",
    "args = sys.argv\n",
    "tf= open(\"todo.txt\",\"w+\")\n",
    "df= open(\"done.txt\",\"w+\")\n",
    "\n",
    "if len(args)==1:\n",
    "    print(\"\"\"Usage :-\n",
    "./todo add \"todo item\"  # Add a new todo\n",
    "./todo ls               # Show remaining todos\n",
    "./todo del NUMBER       # Delete a todo\n",
    "./todo done NUMBER      # Complete a todo\n",
    "./todo help             # Show usage\n",
    "./todo report           # Statistics\"\"\")\n",
    "else:\n",
    "    command = args[1]\n",
    "    if command == \"help\":\n",
    "        print(\"\"\"Usage :-\n",
    "./todo add \"todo item\"  # Add a new todo\n",
    "./todo ls               # Show remaining todos\n",
    "./todo del NUMBER       # Delete a todo\n",
    "./todo done NUMBER      # Complete a todo\n",
    "./todo help             # Show usage\n",
    "./todo report           # Statistics\"\"\")"
   ]
  },
  {
   "cell_type": "code",
   "execution_count": null,
   "metadata": {},
   "outputs": [],
   "source": []
  },
  {
   "cell_type": "code",
   "execution_count": null,
   "metadata": {},
   "outputs": [],
   "source": []
  },
  {
   "cell_type": "code",
   "execution_count": 1,
   "metadata": {},
   "outputs": [],
   "source": [
    "import sys\n",
    "import os\n",
    "args = sys.argv"
   ]
  },
  {
   "cell_type": "code",
   "execution_count": 27,
   "metadata": {},
   "outputs": [
    {
     "name": "stdout",
     "output_type": "stream",
     "text": [
      "Added todo: \"hai\"\n"
     ]
    }
   ],
   "source": [
    "! python use.py add \"hai\""
   ]
  },
  {
   "cell_type": "code",
   "execution_count": 15,
   "metadata": {},
   "outputs": [
    {
     "ename": "NameError",
     "evalue": "name 'lines' is not defined",
     "output_type": "error",
     "traceback": [
      "\u001b[1;31m---------------------------------------------------------------------------\u001b[0m",
      "\u001b[1;31mNameError\u001b[0m                                 Traceback (most recent call last)",
      "\u001b[1;32m<ipython-input-15-0bb4bdaab381>\u001b[0m in \u001b[0;36m<module>\u001b[1;34m\u001b[0m\n\u001b[1;32m----> 1\u001b[1;33m \u001b[0mlines\u001b[0m\u001b[1;33m\u001b[0m\u001b[1;33m\u001b[0m\u001b[0m\n\u001b[0m",
      "\u001b[1;31mNameError\u001b[0m: name 'lines' is not defined"
     ]
    }
   ],
   "source": [
    "lines"
   ]
  },
  {
   "cell_type": "code",
   "execution_count": 30,
   "metadata": {
    "scrolled": true
   },
   "outputs": [
    {
     "name": "stdout",
     "output_type": "stream",
     "text": [
      "[5] hai\n",
      "[4] \n",
      "[3] hai\n",
      "[2] hai\n",
      "[1] find needle in the haystack\n"
     ]
    }
   ],
   "source": [
    "! python use.py ls"
   ]
  },
  {
   "cell_type": "code",
   "execution_count": 33,
   "metadata": {},
   "outputs": [],
   "source": [
    "task = \"hai\"+\"\\n\"\n",
    "with open(\"D:\\\\todo.txt\",\"r\") as f: \n",
    "    lines = f.readlines()\n",
    "    if lines.count(task) <= 2:\n",
    "        lines.insert(0,task+\"\\n\")\n",
    "        with open(\"D:\\\\todo.txt\", \"w\") as f: \n",
    "            f.writelines(lines)\n",
    "            f.close()\n",
    "        print(\"\"\"Added todo: \\\"{0}\\\"\"\"\".format(str(task)),end=\"\")"
   ]
  },
  {
   "cell_type": "code",
   "execution_count": 32,
   "metadata": {},
   "outputs": [
    {
     "data": {
      "text/plain": [
       "2"
      ]
     },
     "execution_count": 32,
     "metadata": {},
     "output_type": "execute_result"
    }
   ],
   "source": [
    "lines.count(task)"
   ]
  },
  {
   "cell_type": "code",
   "execution_count": 24,
   "metadata": {},
   "outputs": [
    {
     "data": {
      "text/plain": [
       "False"
      ]
     },
     "execution_count": 24,
     "metadata": {},
     "output_type": "execute_result"
    }
   ],
   "source": [
    "task not in lines"
   ]
  },
  {
   "cell_type": "code",
   "execution_count": 13,
   "metadata": {
    "scrolled": true
   },
   "outputs": [],
   "source": [
    "with open(\"todo.txt\",\"r\") as f: \n",
    "    lines = f.readlines() #read \n",
    "    lines[0] = \"the thing i need to do\"+\"\\n\" #you can replace zero with any line number. \n",
    "with open(\"todo.txt\", \"w\") as f: \n",
    "    f.writelines(lines) #write back "
   ]
  },
  {
   "cell_type": "code",
   "execution_count": 19,
   "metadata": {},
   "outputs": [],
   "source": [
    "lines = tf.readlines()"
   ]
  },
  {
   "cell_type": "code",
   "execution_count": 26,
   "metadata": {},
   "outputs": [],
   "source": [
    "task =  \"the thing i need to do\""
   ]
  },
  {
   "cell_type": "code",
   "execution_count": 14,
   "metadata": {},
   "outputs": [],
   "source": [
    "f = open(\"todo.txt\", \"w\")"
   ]
  },
  {
   "cell_type": "code",
   "execution_count": 32,
   "metadata": {},
   "outputs": [],
   "source": [
    "tf.writelines(lines)"
   ]
  },
  {
   "cell_type": "code",
   "execution_count": 33,
   "metadata": {},
   "outputs": [],
   "source": [
    "tf.close()"
   ]
  },
  {
   "cell_type": "code",
   "execution_count": 27,
   "metadata": {},
   "outputs": [],
   "source": [
    "lines.insert(0,task+\"\\n\")"
   ]
  },
  {
   "cell_type": "code",
   "execution_count": 30,
   "metadata": {
    "scrolled": true
   },
   "outputs": [
    {
     "data": {
      "text/plain": [
       "['do well\\n', 'the thing i need to do\\n', 'lnxljsncl\\n', 'lscnljsancl']"
      ]
     },
     "execution_count": 30,
     "metadata": {},
     "output_type": "execute_result"
    }
   ],
   "source": [
    "lines"
   ]
  },
  {
   "cell_type": "code",
   "execution_count": 24,
   "metadata": {},
   "outputs": [],
   "source": [
    "tf= open(\"todo.txt\",\"w+\")"
   ]
  },
  {
   "cell_type": "code",
   "execution_count": 2,
   "metadata": {},
   "outputs": [
    {
     "data": {
      "text/plain": [
       "<_io.TextIOWrapper name='todo.txt' mode='r' encoding='cp1252'>"
      ]
     },
     "execution_count": 2,
     "metadata": {},
     "output_type": "execute_result"
    }
   ],
   "source": [
    "tf"
   ]
  },
  {
   "cell_type": "code",
   "execution_count": null,
   "metadata": {},
   "outputs": [],
   "source": [
    "def add():\n",
    "    with open(\"todo.txt\",\"r\") as f: \n",
    "        lines = f.readlines()\n",
    "        lines.insert(0,task+\"\\n\")\n",
    "    with open(\"todo.txt\", \"w\") as f: \n",
    "        f.writelines(lines)\n",
    "        f.close()"
   ]
  },
  {
   "cell_type": "code",
   "execution_count": 143,
   "metadata": {},
   "outputs": [
    {
     "name": "stdout",
     "output_type": "stream",
     "text": [
      "[2] water the plants\n",
      "[1] change light bulb"
     ]
    }
   ],
   "source": [
    "with open(\"todo.txt\",\"r\") as f: \n",
    "    lines = f.readlines()\n",
    "    for i,j in list(zip([i for i in range(len(lines),0,-1)],[i for i in lines])):\n",
    "        print(\"[{0}] {1}\".format(i,j),end=\"\")\n",
    "    f.close()"
   ]
  },
  {
   "cell_type": "code",
   "execution_count": 28,
   "metadata": {},
   "outputs": [],
   "source": [
    "number = int(2)\n",
    "with open(\"todo.txt\",\"r\") as f: \n",
    "    lines = f.readlines()\n",
    "    lines_zip = list(zip([i for i in range(len(lines),0,-1)],[i for i in lines]))\n",
    "    index_val = next((i for i, (j, ele) in enumerate(lines_zip) if j == number), None)\n",
    "    lines.remove(lines[index_val])\n",
    "with open(\"todo.txt\", \"w\") as f: \n",
    "    f.writelines(lines)\n",
    "    f.close()"
   ]
  },
  {
   "cell_type": "code",
   "execution_count": 29,
   "metadata": {},
   "outputs": [
    {
     "data": {
      "text/plain": [
       "['study well\\n']"
      ]
     },
     "execution_count": 29,
     "metadata": {},
     "output_type": "execute_result"
    }
   ],
   "source": [
    "lines"
   ]
  },
  {
   "cell_type": "code",
   "execution_count": 130,
   "metadata": {},
   "outputs": [],
   "source": [
    "lines_zip = list(zip([i for i in range(len(lines),0,-1)],[i for i in lines]))"
   ]
  },
  {
   "cell_type": "code",
   "execution_count": 30,
   "metadata": {},
   "outputs": [
    {
     "data": {
      "text/plain": [
       "[(2, 'Be active\\n'), (1, 'study well\\n')]"
      ]
     },
     "execution_count": 30,
     "metadata": {},
     "output_type": "execute_result"
    }
   ],
   "source": [
    "lines_zip"
   ]
  },
  {
   "cell_type": "code",
   "execution_count": 36,
   "metadata": {},
   "outputs": [
    {
     "data": {
      "text/plain": [
       "False"
      ]
     },
     "execution_count": 36,
     "metadata": {},
     "output_type": "execute_result"
    }
   ],
   "source": [
    "3 in [i for i,j in lines_zip]"
   ]
  },
  {
   "cell_type": "code",
   "execution_count": 32,
   "metadata": {},
   "outputs": [
    {
     "data": {
      "text/plain": [
       "False"
      ]
     },
     "execution_count": 32,
     "metadata": {},
     "output_type": "execute_result"
    }
   ],
   "source": [
    "2 in lines_zip"
   ]
  },
  {
   "cell_type": "code",
   "execution_count": 37,
   "metadata": {},
   "outputs": [],
   "source": [
    "import os\n",
    "\n",
    "cwd = os.getcwd()"
   ]
  },
  {
   "cell_type": "code",
   "execution_count": 38,
   "metadata": {},
   "outputs": [
    {
     "data": {
      "text/plain": [
       "'D:\\\\fellowship-Python'"
      ]
     },
     "execution_count": 38,
     "metadata": {},
     "output_type": "execute_result"
    }
   ],
   "source": [
    "cwd"
   ]
  },
  {
   "cell_type": "code",
   "execution_count": 132,
   "metadata": {},
   "outputs": [],
   "source": [
    "index_val = next((i for i, (j, ele) in enumerate(lines_zip) if j == 4), None) "
   ]
  },
  {
   "cell_type": "code",
   "execution_count": 133,
   "metadata": {},
   "outputs": [
    {
     "data": {
      "text/plain": [
       "1"
      ]
     },
     "execution_count": 133,
     "metadata": {},
     "output_type": "execute_result"
    }
   ],
   "source": [
    "index_val"
   ]
  },
  {
   "cell_type": "code",
   "execution_count": 134,
   "metadata": {},
   "outputs": [],
   "source": [
    "lines.remove(lines[index_val])"
   ]
  },
  {
   "cell_type": "code",
   "execution_count": 135,
   "metadata": {},
   "outputs": [
    {
     "data": {
      "text/plain": [
       "['wakeup early\\n', 'complete homework\\n', 'run fast\\n', 'make a tea\\n']"
      ]
     },
     "execution_count": 135,
     "metadata": {},
     "output_type": "execute_result"
    }
   ],
   "source": [
    "lines"
   ]
  },
  {
   "cell_type": "code",
   "execution_count": 136,
   "metadata": {},
   "outputs": [],
   "source": [
    "    with open(\"todo.txt\", \"w\") as f: \n",
    "        f.writelines(lines)\n",
    "        f.close()"
   ]
  },
  {
   "cell_type": "code",
   "execution_count": 25,
   "metadata": {},
   "outputs": [
    {
     "ename": "NameError",
     "evalue": "name 'lines_zip' is not defined",
     "output_type": "error",
     "traceback": [
      "\u001b[1;31m---------------------------------------------------------------------------\u001b[0m",
      "\u001b[1;31mNameError\u001b[0m                                 Traceback (most recent call last)",
      "\u001b[1;32m<ipython-input-25-ccaaf2bcccad>\u001b[0m in \u001b[0;36m<module>\u001b[1;34m\u001b[0m\n\u001b[1;32m----> 1\u001b[1;33m \u001b[0mlines_zip\u001b[0m\u001b[1;33m\u001b[0m\u001b[1;33m\u001b[0m\u001b[0m\n\u001b[0m",
      "\u001b[1;31mNameError\u001b[0m: name 'lines_zip' is not defined"
     ]
    }
   ],
   "source": [
    "lines_zip"
   ]
  },
  {
   "cell_type": "code",
   "execution_count": null,
   "metadata": {},
   "outputs": [],
   "source": []
  },
  {
   "cell_type": "code",
   "execution_count": null,
   "metadata": {},
   "outputs": [],
   "source": []
  },
  {
   "cell_type": "code",
   "execution_count": null,
   "metadata": {},
   "outputs": [],
   "source": []
  },
  {
   "cell_type": "code",
   "execution_count": 17,
   "metadata": {},
   "outputs": [
    {
     "name": "stdout",
     "output_type": "stream",
     "text": [
      "2020-12-20\n"
     ]
    }
   ],
   "source": [
    "import time\n",
    "## dd/mm/yyyy format\n",
    "print (time.strftime(\"%Y-%m-%d\"))"
   ]
  },
  {
   "cell_type": "code",
   "execution_count": 78,
   "metadata": {},
   "outputs": [
    {
     "name": "stdout",
     "output_type": "stream",
     "text": [
      "[3] complete homework\n",
      "[2] run fast\n",
      "[1] make a tea\n"
     ]
    }
   ],
   "source": [
    "for i,j in list(zip([i for i in range(len(lines),0,-1)],[i for i in lines])):\n",
    "    print(\"[{0}] {1}\".format(i,j[0:-1]))"
   ]
  },
  {
   "cell_type": "code",
   "execution_count": 13,
   "metadata": {},
   "outputs": [
    {
     "name": "stdout",
     "output_type": "stream",
     "text": [
      "['[4] wakeup early\\n', '[3] Be active\\n', '[2] study well\\n', '[1] walk daily']\n"
     ]
    }
   ],
   "source": [
    "ls = []\n",
    "with open(\"todo.txt\",\"r\") as f: \n",
    "    lines = f.readlines()\n",
    "    for i,j in list(zip([i for i in range(len(lines),0,-1)],[i for i in lines])):\n",
    "        ls.append(\"[{0}] {1}\".format(i,j))\n",
    "    ls[-1] = ls[-1].replace(ls[-1][-1],\"\")\n",
    "    print(ls)\n",
    "    f.close()"
   ]
  },
  {
   "cell_type": "code",
   "execution_count": 12,
   "metadata": {},
   "outputs": [
    {
     "data": {
      "text/plain": [
       "['[4] wakeup early\\n', '[3] Be active\\n', '[2] study well\\n', '[1] walk daily']"
      ]
     },
     "execution_count": 12,
     "metadata": {},
     "output_type": "execute_result"
    }
   ],
   "source": [
    "ls"
   ]
  },
  {
   "cell_type": "code",
   "execution_count": 9,
   "metadata": {},
   "outputs": [
    {
     "data": {
      "text/plain": [
       "'[1] walk daily'"
      ]
     },
     "execution_count": 9,
     "metadata": {},
     "output_type": "execute_result"
    }
   ],
   "source": [
    "ls[-1].replace(ls[-1][-1],\"\")"
   ]
  },
  {
   "cell_type": "code",
   "execution_count": 11,
   "metadata": {},
   "outputs": [],
   "source": [
    "ls[-1] = ls[-1].replace(ls[-1][-1],\"\")"
   ]
  },
  {
   "cell_type": "code",
   "execution_count": null,
   "metadata": {},
   "outputs": [],
   "source": [
    "def ls():"
   ]
  },
  {
   "cell_type": "code",
   "execution_count": null,
   "metadata": {},
   "outputs": [],
   "source": [
    "def help():"
   ]
  },
  {
   "cell_type": "code",
   "execution_count": null,
   "metadata": {},
   "outputs": [],
   "source": [
    "def done():"
   ]
  },
  {
   "cell_type": "code",
   "execution_count": 139,
   "metadata": {},
   "outputs": [],
   "source": [
    "with open(\"todo.txt\",\"r\") as f: \n",
    "    lines = f.readlines()"
   ]
  },
  {
   "cell_type": "code",
   "execution_count": 140,
   "metadata": {},
   "outputs": [
    {
     "data": {
      "text/plain": [
       "['water the plants\\n', 'change light bulb']"
      ]
     },
     "execution_count": 140,
     "metadata": {},
     "output_type": "execute_result"
    }
   ],
   "source": [
    "lines"
   ]
  },
  {
   "cell_type": "code",
   "execution_count": 144,
   "metadata": {},
   "outputs": [],
   "source": [
    "lines_zip = list(zip([i for i in range(len(lines),0,-1)],[i for i in lines]))"
   ]
  },
  {
   "cell_type": "code",
   "execution_count": 145,
   "metadata": {},
   "outputs": [
    {
     "data": {
      "text/plain": [
       "[(2, 'water the plants\\n'), (1, 'change light bulb')]"
      ]
     },
     "execution_count": 145,
     "metadata": {},
     "output_type": "execute_result"
    }
   ],
   "source": [
    "lines_zip"
   ]
  },
  {
   "cell_type": "code",
   "execution_count": 146,
   "metadata": {},
   "outputs": [],
   "source": [
    " number = 2"
   ]
  },
  {
   "cell_type": "code",
   "execution_count": 147,
   "metadata": {},
   "outputs": [],
   "source": [
    "index_val = next((i for i, (j, ele) in enumerate(lines_zip) if j == number), None)"
   ]
  },
  {
   "cell_type": "code",
   "execution_count": 148,
   "metadata": {},
   "outputs": [
    {
     "data": {
      "text/plain": [
       "0"
      ]
     },
     "execution_count": 148,
     "metadata": {},
     "output_type": "execute_result"
    }
   ],
   "source": [
    "index_val"
   ]
  },
  {
   "cell_type": "code",
   "execution_count": 150,
   "metadata": {},
   "outputs": [],
   "source": []
  },
  {
   "cell_type": "code",
   "execution_count": 151,
   "metadata": {},
   "outputs": [],
   "source": [
    "number = int(args[2])\n",
    "with open(\"todo.txt\",\"r\") as f: \n",
    "    lines = f.readlines()\n",
    "    lines_zip = list(zip([i for i in range(len(lines),0,-1)],[i for i in lines]))\n",
    "    index_val = next((i for i, (j, ele) in enumerate(lines_zip) if j == number), None)\n",
    "    new = lines[index_val]\n",
    "    lines.remove(new)\n",
    "with open(\"todo.txt\", \"w\") as f: \n",
    "    f.writelines(lines)\n",
    "    f.close()\n",
    "with open(\"done.txt\",\"r\") as f: \n",
    "    line = f.readlines()\n",
    "    line.insert(0,new)\n",
    "with open(\"done.txt\", \"w\") as f: \n",
    "    f.writelines(line)\n",
    "    f.close()"
   ]
  },
  {
   "cell_type": "code",
   "execution_count": null,
   "metadata": {},
   "outputs": [],
   "source": [
    "with open(\"done.txt\",\"w\") as f: \n",
    "    lines = f.readlines()"
   ]
  },
  {
   "cell_type": "code",
   "execution_count": null,
   "metadata": {},
   "outputs": [],
   "source": []
  },
  {
   "cell_type": "code",
   "execution_count": null,
   "metadata": {},
   "outputs": [],
   "source": [
    "number = \n",
    "with open(\"todo.txt\",\"r\") as f: \n",
    "    lines = f.readlines()\n",
    "    lines_zip = list(zip([i for i in range(len(lines),0,-1)],[i for i in lines]))\n",
    "    index_val = next((i for i, (j, ele) in enumerate(lines_zip) if j == number), None)"
   ]
  },
  {
   "cell_type": "code",
   "execution_count": 154,
   "metadata": {},
   "outputs": [],
   "source": [
    "lines.remove(new)"
   ]
  },
  {
   "cell_type": "code",
   "execution_count": 155,
   "metadata": {},
   "outputs": [
    {
     "data": {
      "text/plain": [
       "['change light bulb']"
      ]
     },
     "execution_count": 155,
     "metadata": {},
     "output_type": "execute_result"
    }
   ],
   "source": [
    "lines"
   ]
  },
  {
   "cell_type": "code",
   "execution_count": 158,
   "metadata": {},
   "outputs": [
    {
     "data": {
      "text/plain": [
       "'\\n'"
      ]
     },
     "execution_count": 158,
     "metadata": {},
     "output_type": "execute_result"
    }
   ],
   "source": [
    "new[-1]"
   ]
  },
  {
   "cell_type": "code",
   "execution_count": null,
   "metadata": {},
   "outputs": [],
   "source": [
    "def report():"
   ]
  },
  {
   "cell_type": "code",
   "execution_count": 23,
   "metadata": {},
   "outputs": [
    {
     "name": "stdout",
     "output_type": "stream",
     "text": [
      "2020-12-20 Pending : 0 Completed : 4\n"
     ]
    }
   ],
   "source": [
    "with open(\"todo.txt\",\"r\") as f: \n",
    "    lines = len(f.readlines())\n",
    "with open(\"done.txt\",\"r\") as f: \n",
    "    line = len(f.readlines())\n",
    "print(\"{0} Pending : {1} Completed : {2}\".format(time.strftime(\"%Y-%m-%d\"),lines,line))"
   ]
  },
  {
   "cell_type": "code",
   "execution_count": 20,
   "metadata": {},
   "outputs": [
    {
     "data": {
      "text/plain": [
       "0"
      ]
     },
     "execution_count": 20,
     "metadata": {},
     "output_type": "execute_result"
    }
   ],
   "source": [
    "len(lines)"
   ]
  },
  {
   "cell_type": "code",
   "execution_count": 21,
   "metadata": {},
   "outputs": [],
   "source": [
    "with open(\"done.txt\",\"r\") as f: \n",
    "    line = f.readlines()"
   ]
  },
  {
   "cell_type": "code",
   "execution_count": 22,
   "metadata": {},
   "outputs": [
    {
     "data": {
      "text/plain": [
       "4"
      ]
     },
     "execution_count": 22,
     "metadata": {},
     "output_type": "execute_result"
    }
   ],
   "source": [
    "len(line)"
   ]
  },
  {
   "cell_type": "code",
   "execution_count": 24,
   "metadata": {},
   "outputs": [
    {
     "name": "stdout",
     "output_type": "stream",
     "text": [
      "Usage :-./todo add \"todo item\"  # Add a new todo./todo ls               # Show remaining todos./todo del NUMBER       # Delete a todo./todo done NUMBER      # Complete a todo./todo help             # Show usage./todo report           # Statistics"
     ]
    }
   ],
   "source": [
    "print(\"Usage :-\",end=\"\")\n",
    "print(\"\"\"./todo add \"todo item\"  # Add a new todo\"\"\",end=\"\")\n",
    "print(\"./todo ls               # Show remaining todos\",end=\"\")\n",
    "print(\"./todo del NUMBER       # Delete a todo\",end=\"\")\n",
    "print(\"./todo done NUMBER      # Complete a todo\",end=\"\")\n",
    "print(\"./todo help             # Show usage\",end=\"\")\n",
    "print(\"./todo report           # Statistics\",end=\"\")"
   ]
  }
 ],
 "metadata": {
  "kernelspec": {
   "display_name": "Python 3",
   "language": "python",
   "name": "python3"
  },
  "language_info": {
   "codemirror_mode": {
    "name": "ipython",
    "version": 3
   },
   "file_extension": ".py",
   "mimetype": "text/x-python",
   "name": "python",
   "nbconvert_exporter": "python",
   "pygments_lexer": "ipython3",
   "version": "3.7.8"
  }
 },
 "nbformat": 4,
 "nbformat_minor": 4
}
